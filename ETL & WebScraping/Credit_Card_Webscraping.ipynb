{
 "cells": [
  {
   "cell_type": "code",
   "execution_count": 1,
   "id": "b586f4b8",
   "metadata": {},
   "outputs": [],
   "source": [
    "# Import Splinter and BeautifulSoup\n",
    "from splinter import Browser\n",
    "from bs4 import BeautifulSoup as soup\n",
    "import matplotlib.pyplot as plt\n",
    "import pandas as pd"
   ]
  },
  {
   "cell_type": "code",
   "execution_count": 2,
   "id": "29e19830",
   "metadata": {},
   "outputs": [],
   "source": [
    "browser = Browser('chrome')"
   ]
  },
  {
   "cell_type": "code",
   "execution_count": 3,
   "id": "4efc325b",
   "metadata": {},
   "outputs": [],
   "source": [
    "# Visit the website\n",
    "# https://www.cibc.com/en/personal-banking/credit-cards/articles/credit-card-fraud.html\n",
    "url = \"https://www.cibc.com/en/personal-banking/credit-cards/articles/credit-card-fraud.html\"\n",
    "browser.visit(url)"
   ]
  },
  {
   "cell_type": "code",
   "execution_count": 4,
   "id": "e73b435e",
   "metadata": {},
   "outputs": [],
   "source": [
    "# Create a Beautiful Soup object\n",
    "html = browser.html\n",
    "html_soup = soup(html, 'html.parser')"
   ]
  },
  {
   "cell_type": "code",
   "execution_count": 5,
   "id": "6cc847d1",
   "metadata": {},
   "outputs": [],
   "source": [
    "# Extract all the text elements\n",
    "elements = html_soup.find_all('main', class_='main-content')"
   ]
  },
  {
   "cell_type": "code",
   "execution_count": 6,
   "id": "11886cc9",
   "metadata": {},
   "outputs": [],
   "source": [
    "# Extract all the text elements\n",
    "Title = html_soup.find_all('span', class_='subheading-medium')"
   ]
  },
  {
   "cell_type": "code",
   "execution_count": 7,
   "id": "b68543fb",
   "metadata": {},
   "outputs": [],
   "source": [
    "Paragraphs = html_soup.find_all('span', class_='body-copy')"
   ]
  },
  {
   "cell_type": "code",
   "execution_count": 8,
   "id": "919d6a0e",
   "metadata": {},
   "outputs": [],
   "source": [
    "List = zip(Title, Paragraphs)"
   ]
  },
  {
   "cell_type": "code",
   "execution_count": 9,
   "id": "c114ea5c",
   "metadata": {},
   "outputs": [
    {
     "data": {
      "text/plain": [
       "((<span class=\"subheading-medium\">1. Evaluate websites before entering credit card data</span>,\n",
       "  <span class=\"body-copy\">Join and get over $1,200 in value with the CIBC <span class=\"no-wrap\">Aventura®</span> Visa Infinite* <span class=\"no-wrap\">Card.<sup>†</sup></span></span>),\n",
       " (<span class=\"subheading-medium\">2. Keep your credit card protected and out of sight</span>,\n",
       "  <span class=\"body-copy\">Start saving today, tax-free. Discover the ways a Tax-Free Savings Account (TFSA) can help you grow your savings.</span>),\n",
       " (<span class=\"subheading-medium\">3. Regularly check your statements for odd charges</span>,\n",
       "  <span class=\"body-copy\">Shop stress-free with our tools and advice.</span>),\n",
       " (<span class=\"subheading-medium\">4. Shred your statements and card specific documentation</span>,\n",
       "  <span class=\"body-copy\">Making purchases with your credit card is convenient and very safe. In the event of credit card fraud or a stolen credit card, there are steps you can take to erase fraudulent charges and protect your money. It pays to be vigilant in the use of your card — here are 5 ways to greatly reduce the chance you’ll be affected by credit card fraud.</span>),\n",
       " (<span class=\"subheading-medium\">5. Consider using a credit card over a debit card</span>,\n",
       "  <span class=\"body-copy\">People who commit credit fraud use the Internet to their advantage by stealing credit card information from unsecure websites as well as fake sites.</span>),\n",
       " (<span class=\"subheading-medium\">Learn more about card security from CIBC</span>,\n",
       "  <span class=\"body-copy\">When shopping online, make sure you’re on a site that has “https” in the address line, which indicates it’s secure. You should also examine the site for proof of authentication services. For example, VeriSign is a trusted company that secures the information entered in the purchase screens for online retailers. If the site lacks a security policy, doesn’t bear the seal of a trusted authentication service provider or phone number, it’s possible that your credit card information will be exposed to hackers.<br/>  </span>),\n",
       " (<span class=\"subheading-medium\">Get started</span>,\n",
       "  <span class=\"body-copy\">Be aware of your surroundings, and don’t present your card until it’s necessary. Refrain from reading your card number out loud in public; keep your PIN hidden on keypads by use of your hand or body; and ensure if a cashier requests to see your card, it is always in sight.<br/>  </span>),\n",
       " (<span class=\"subheading-medium\"><span class=\"link-color\" style=\"color: rgb(255,255,255); border-bottom-color: rgb(255,255,255);\">Need to meet?</span></span>,\n",
       "  <span class=\"body-copy\">If credit card fraud has taken place, your best chance of repairing the damage is to catch it early. Look for charges from places you know you did not make purchases. The general thought is credit card thieves will start with small charges to see if the cardholder notices. For example, you may see purchases at a sandwich shop, gas station or online retailer for just a few dollars. If you spot these charges, follow the steps of reporting a stolen credit card immediately “<a adhocenable=\"false\" data-utc=\"C1:5773\" href=\"/en/personal-banking/credit-cards/articles/stolen-credit-card-tips.html\" target=\"_self\">What to do in the event of a stolen credit card</a>.”<br/>  </span>))"
      ]
     },
     "execution_count": 9,
     "metadata": {},
     "output_type": "execute_result"
    }
   ],
   "source": [
    "tuple(List)"
   ]
  },
  {
   "cell_type": "code",
   "execution_count": 10,
   "id": "4a5525d6",
   "metadata": {},
   "outputs": [],
   "source": [
    "# Create an empty list to store the dictionaries\n",
    "all_elements = []"
   ]
  },
  {
   "cell_type": "code",
   "execution_count": 11,
   "id": "afa1ae14",
   "metadata": {},
   "outputs": [],
   "source": [
    "# Loop through the text elements\n",
    "# Extract the title and preview text from the elements\n",
    "# Store each title and preview pair in a dictionary\n",
    "# Add the dictionary to the list\n",
    "for element in elements:\n",
    "    title = element.find('span', class_='subheading-medium').text\n",
    "    paragraph = element.find('span', class_='body-copy').text.strip()\n",
    "    all_elements.append({'title':title,'paragraph':paragraph})"
   ]
  },
  {
   "cell_type": "code",
   "execution_count": 12,
   "id": "16ed9ef3",
   "metadata": {},
   "outputs": [
    {
     "name": "stdout",
     "output_type": "stream",
     "text": [
      "{'title': '1. Evaluate websites before entering credit card data', 'paragraph': 'Making purchases with your credit card is convenient and very safe. In the event of credit card fraud or a stolen credit card, there are steps you can take to erase fraudulent charges and protect your money. It pays to be vigilant in the use of your card — here are 5 ways to greatly reduce the chance you’ll be affected by credit card fraud.'}\n"
     ]
    }
   ],
   "source": [
    "# Print the list to confirm success\n",
    "print(all_elements[0])"
   ]
  },
  {
   "cell_type": "code",
   "execution_count": 13,
   "id": "f7e3a3c7",
   "metadata": {},
   "outputs": [],
   "source": [
    "browser.quit()"
   ]
  }
 ],
 "metadata": {
  "kernelspec": {
   "display_name": "Python 3 (ipykernel)",
   "language": "python",
   "name": "python3"
  },
  "language_info": {
   "codemirror_mode": {
    "name": "ipython",
    "version": 3
   },
   "file_extension": ".py",
   "mimetype": "text/x-python",
   "name": "python",
   "nbconvert_exporter": "python",
   "pygments_lexer": "ipython3",
   "version": "3.9.13"
  }
 },
 "nbformat": 4,
 "nbformat_minor": 5
}
